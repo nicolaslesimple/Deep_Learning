{
 "cells": [
  {
   "cell_type": "code",
   "execution_count": 7,
   "metadata": {},
   "outputs": [],
   "source": [
    "%matplotlib inline"
   ]
  },
  {
   "cell_type": "markdown",
   "metadata": {},
   "source": [
    "# Load data"
   ]
  },
  {
   "cell_type": "code",
   "execution_count": 1,
   "metadata": {},
   "outputs": [],
   "source": [
    "import dlc_bci\n",
    "\n",
    "train_input_100 , train_target_100 = dlc_bci.load(root = './data_bci_100Hz', download = False)\n",
    "test_input_100 , test_target_100 = dlc_bci.load(root = './data_bci_100Hz', download = False, train = False)\n",
    "\n",
    "train_input_1000 , train_target_1000 = dlc_bci.load(root = './data_bci_1000Hz', download = False, one_khz = True)\n",
    "test_input_1000 , test_target_1000 = dlc_bci.load(root = './data_bci_1000Hz', download = False, train = False, one_khz = True)"
   ]
  },
  {
   "cell_type": "markdown",
   "metadata": {},
   "source": [
    "# Visualize data"
   ]
  },
  {
   "cell_type": "code",
   "execution_count": 2,
   "metadata": {},
   "outputs": [
    {
     "name": "stdout",
     "output_type": "stream",
     "text": [
      "Train input 100 Hz: 316x28x50\n",
      "Train target 100 Hz: 316\n",
      "Test input 100 Hz: 100x28x50\n",
      "Test target 100 Hz: 100\n",
      "\n",
      "Train input 1000 Hz: 316x28x500\n",
      "Train target 1000 Hz: 316\n",
      "Test input 1000 Hz: 100x28x500\n",
      "Test target 1000 Hz: 100\n"
     ]
    }
   ],
   "source": [
    "print(\"Train input 100 Hz: {:d}x{:d}x{:d}\".format(*(s for s in train_input_100.size())))\n",
    "print(\"Train target 100 Hz: {:d}\".format(*(s for s in train_target_100.size())))\n",
    "print(\"Test input 100 Hz: {:d}x{:d}x{:d}\".format(*(s for s in test_input_100.size())))\n",
    "print(\"Test target 100 Hz: {:d}\".format(*(s for s in test_target_100.size())))\n",
    "print(\"\")\n",
    "print(\"Train input 1000 Hz: {:d}x{:d}x{:d}\".format(*(s for s in train_input_1000.size())))\n",
    "print(\"Train target 1000 Hz: {:d}\".format(*(s for s in train_target_1000.size())))\n",
    "print(\"Test input 1000 Hz: {:d}x{:d}x{:d}\".format(*(s for s in test_input_1000.size())))\n",
    "print(\"Test target 1000 Hz: {:d}\".format(*(s for s in test_target_1000.size())))\n",
    "\n",
    "Ntrain = train_input_100.size(0)\n",
    "Ntest = test_input_100.size(0)\n",
    "Nchannels = train_input_100.size(1)\n",
    "Nsamples_100 = train_input_100.size(-1)\n",
    "Nsamples_1000 = train_input_1000.size(-1)"
   ]
  },
  {
   "cell_type": "markdown",
   "metadata": {},
   "source": [
    "# Nearest-neighbor classifier\n",
    "See practical session 2.  \n",
    "\n",
    "Each sample is treated as an Nchannels\\*Nsamples 1D vector and simple 1-nearest-neighbor (1-NN) matching is performed for classification.  \n",
    "\n",
    "\n",
    "Principal Component Analysis (PCA) with varying numbers of principal components coupled with 1-NN matching is also investigated. \n",
    "\n",
    "\n",
    "The test samples are classified one by one to avoid out-of-RAM errors."
   ]
  },
  {
   "cell_type": "code",
   "execution_count": 3,
   "metadata": {},
   "outputs": [],
   "source": [
    "import torch\n",
    "from torch import Tensor\n",
    "def nearest_classification(train_input, train_target, x):\n",
    "    # train_input is n x d; train_target is n, x is m x d\n",
    "\n",
    "    # Low memory option\n",
    "    cross_prod = torch.mm(train_input, x.t())  # n x m\n",
    "    Tsquared = train_input.pow(2).sum(dim=1, keepdim=True)  # n x 1\n",
    "    Xsquared = x.pow(2).sum(dim=1, keepdim=True)  # m x 1\n",
    "    _, ind_nn = (Tsquared + Xsquared.t() - 2*cross_prod).min(dim=0)  # broadcasting used here\n",
    "    return train_target[ind_nn]  # returns Tensor (LongTensor if train_target is LongTensor)\n",
    "\n",
    "def compute_nb_errors(train_input, train_target, test_input, test_target,\n",
    "                      mean = None, proj = None):\n",
    "    # train_input is n x d; train_target is n; test_input is m x d; test_target is n; mean is d; proj is d x c\n",
    "    # Center data\n",
    "    if mean is not None:\n",
    "        train_input = train_input - mean\n",
    "        test_input = test_input - mean\n",
    "    # Apply projection\n",
    "    if proj is not None:\n",
    "        train_input = train_input.mm(proj).mm(proj.t())  # last multiplication is superfluous in k-NN matching\n",
    "        test_input = test_input.mm(proj).mm(proj.t())  # last multiplication is superfluous in k-NN matching\n",
    "    # Compute number of classification errors\n",
    "    nearest_target = nearest_classification(train_input, train_target, test_input)\n",
    "    return torch.sum( nearest_target != test_target)\n",
    "\n",
    "def PCA(x):\n",
    "    x_mean = x.mean(dim=0)\n",
    "    x = x - x_mean\n",
    "    e_vals, e_vecs = torch.eig(torch.mm(x.t(),x), eigenvectors=True)  # STRANGE: e_vals is d x 2 SOL: x.t().mm(x)\n",
    "    _, sorted_indices = torch.sort(e_vals[:, 0], descending=True) \n",
    "    return (x_mean, e_vecs[:, sorted_indices]) # first output has dimension d; second output d x d"
   ]
  },
  {
   "cell_type": "code",
   "execution_count": 4,
   "metadata": {},
   "outputs": [
    {
     "name": "stdout",
     "output_type": "stream",
     "text": [
      "Basic nearest-neighbor search in original coordinate space: test error rate 49%\n",
      "With 3 principal components test error rate 48%\n",
      "With 10 principal components test error rate 52%\n",
      "With 50 principal components test error rate 49%\n",
      "With 100 principal components test error rate 49%\n",
      "With 200 principal components test error rate 49%\n",
      "With 500 principal components test error rate 49%\n",
      "With 700 principal components test error rate 49%\n"
     ]
    }
   ],
   "source": [
    "# Classical 1-nearest-neighbor classification\n",
    "N_err_near_neigh = 0\n",
    "for i in range(Ntest):  # classify test samples one by one\n",
    "    N_err_near_neigh += compute_nb_errors(train_input_100.view(Ntrain,-1), train_target_100,\n",
    "                                          test_input_100[i].view(1,-1), test_target_100[i])\n",
    "print(\"Basic nearest-neighbor search in original coordinate space:\"\n",
    "      \" test error rate {:g}%\".format(100*N_err_near_neigh/Ntest))  \n",
    "\n",
    "# Including PCA pre-processing\n",
    "dim = Nchannels*Nsamples_100  # dimensionality of space in which our samples lie\n",
    "cvals = [3, 10, 50, 100, 200, 500, int(dim/2)]  # number of principal components (<= dim)\n",
    "Nerrs = Tensor(len(cvals)).zero_()\n",
    "mean_train, PCA_basis = PCA(train_input_100.view(Ntrain,-1))\n",
    "for ic in range(len(cvals)): \n",
    "    P = PCA_basis[:, :cvals[ic]]  # d x c  where d is the space dimension\n",
    "    test_pred = Tensor(Ntest).zero_()\n",
    "    for i in range(Ntest):  # classify test samples one by one\n",
    "        Nerrs[ic] += compute_nb_errors(train_input_100.view(Ntrain,-1), train_target_100,\n",
    "                                       test_input_100[i].view(1,-1), test_target_100[i],\n",
    "                                       mean = mean_train, proj = P)\n",
    "    print(\"With {:d} principal components test error rate {:g}%\".format(cvals[ic], 100*Nerrs[ic]/Ntest))\n",
    "\n"
   ]
  },
  {
   "cell_type": "markdown",
   "metadata": {},
   "source": [
    "# Multi-layer perceptron\n",
    "See practical session 3 for theoretical aspects and practical session 5 for easy implementation using torch.nn.Sequential.  \n"
   ]
  },
  {
   "cell_type": "code",
   "execution_count": 5,
   "metadata": {},
   "outputs": [],
   "source": [
    "import torch\n",
    "from torch import Tensor\n",
    "from torch import nn \n",
    "from torch.autograd import Variable\n",
    "\n",
    "def create_shallow_model(input_dim, Nhidden):\n",
    "    \"\"\"Returns a multi-layer perceptron with a single hidden layer and 2 output units.\n",
    "    \n",
    "    Args:\n",
    "        input_dim (int): number of input units corresponding to the dimension of the input vectors.\n",
    "        Nhidden (int): number of units in the hidden layer\n",
    "    \n",
    "    Returns:\n",
    "        A torch.nn.Sequential object (subclass of torch.nn.Module) with the usual forward() method \n",
    "        and compatible with torch.autograd for the backward pass.\n",
    "    \"\"\"\n",
    "    return nn.Sequential(nn.Linear(input_dim, Nhidden, bias=True), nn.ReLU(), nn.Linear(Nhidden, 2, bias=True))  # use nn.ReLu, not nn.functional.relu\n",
    "\n",
    "def compute_nb_errors(model, data_input, data_target):\n",
    "    batch_size = 35  # not as crucial as in training. Just a matter of memory.\n",
    "    nb_errors = 0\n",
    "    Ndata = data_input.size(0)\n",
    "    for b_start in range(0, data_input.size(0), batch_size):\n",
    "        bsize_eff = batch_size - max(0, b_start+batch_size-Ndata)  # boundary case\n",
    "        batch_output = model.forward(data_input.narrow(0, b_start, bsize_eff))  # is Variable if data_input is Variable\n",
    "        nb_err_batch = (batch_output.max(1)[1] != data_target.narrow(0, b_start, bsize_eff)).long().sum()\n",
    "        # overflow problem if conversion to Long Int not performed, treated as short 1-byte int otherwise!!\n",
    "        nb_errors += nb_err_batch\n",
    "    if isinstance(nb_errors, Variable):\n",
    "        nb_errors = nb_errors.data[0]\n",
    "    return nb_errors\n",
    "\n",
    "def train_model(model, train_input, train_target, eta=1e-3, batch_size=50):\n",
    "    \"\"\"Trains any torch.autograd compatible model and returns the number of epochs used for training.\n",
    "    Stochastic gradient descend is used to maximimize cross entropy, typically used for classification problems.\n",
    "    \n",
    "    Args:\n",
    "        model (torch.nn.Module): any model supporting torch.autograd.backward() for the backward pass\n",
    "        train_input (torch.autograd.Variable): Ntrain-by-dim 2D Variable\n",
    "        train_target (torch.autograd.Variable): Ntrain 1D Variable\n",
    "        eta (float): learning rate for the gradient steps. Default: 1e-3.\n",
    "        batch_size (int): number of training samples used to approximate the gradient at each step. Default: 50.\n",
    "        \n",
    "    Returns:\n",
    "        int: number of epochs needed to reach zero classification error on the training set or the maximum number of \n",
    "            epochs permitted.\n",
    "        \n",
    "    \"\"\"\n",
    "    n_epochs_max = 1000\n",
    "    Ntrain = train_input.size(0)\n",
    "    loss_function = torch.nn.CrossEntropyLoss() # takes 2 args: network output and sample target\n",
    "    optimizer = torch.optim.SGD(model.parameters(), lr=eta) # use momentum, etc.\n",
    "    for e in range(0, n_epochs_max):\n",
    "        # Stochastic gradient descent\n",
    "        for b_start in range(0, Ntrain, batch_size):\n",
    "            bsize_eff = batch_size - max(0, b_start+batch_size-Ntrain)  # boundary case\n",
    "            batch_output = model.forward(train_input.narrow(0, b_start, bsize_eff))\n",
    "            batch_loss = loss_function(batch_output, train_target.narrow(0, b_start, bsize_eff))  # instance of Variable\n",
    "            model.zero_grad()  # seems to work well outside of batch loop, sort of inertia?\n",
    "            batch_loss.backward()\n",
    "            optimizer.step()\n",
    "        \n",
    "        # Stop if training error is zero \n",
    "        nb_errors = compute_nb_errors(model, train_input, train_target)\n",
    "\n",
    "        # if e % int(n_epochs_max/15) == 0:\n",
    "            # print(\"Epoch {:d}/{:d} training error rate {:g}\".format(e+1, n_epochs_max, 100*nb_errors/Ntrain))\n",
    "   \n",
    "        if nb_errors == 0:\n",
    "            # print(\"Zero training error reached in {:d} epochs.\".format(e+1))\n",
    "            break  # no need to optimize further\n",
    "    return e+1"
   ]
  },
  {
   "cell_type": "code",
   "execution_count": 6,
   "metadata": {},
   "outputs": [
    {
     "name": "stdout",
     "output_type": "stream",
     "text": [
      "Single-layer MLP, 350 hidden units, learn. rate 1.00e-05: train error 0.316456% in 1000 epochs, test error 30%\n",
      "Single-layer MLP, 350 hidden units, learn. rate 1.00e-04: train error 0% in 222 epochs, test error 40%\n",
      "Single-layer MLP, 350 hidden units, learn. rate 1.00e-03: train error 0% in 96 epochs, test error 41%\n",
      "Single-layer MLP, 700 hidden units, learn. rate 1.00e-05: train error 0% in 698 epochs, test error 37%\n",
      "Single-layer MLP, 700 hidden units, learn. rate 1.00e-04: train error 0% in 118 epochs, test error 36%\n",
      "Single-layer MLP, 700 hidden units, learn. rate 1.00e-03: train error 0% in 81 epochs, test error 34%\n",
      "Single-layer MLP, 1050 hidden units, learn. rate 1.00e-05: train error 0% in 692 epochs, test error 39%\n",
      "Single-layer MLP, 1050 hidden units, learn. rate 1.00e-04: train error 0% in 110 epochs, test error 33%\n",
      "Single-layer MLP, 1050 hidden units, learn. rate 1.00e-03: train error 0% in 40 epochs, test error 39%\n",
      "Single-layer MLP, 1400 hidden units, learn. rate 1.00e-05: train error 0% in 590 epochs, test error 38%\n",
      "Single-layer MLP, 1400 hidden units, learn. rate 1.00e-04: train error 0% in 110 epochs, test error 30%\n",
      "Single-layer MLP, 1400 hidden units, learn. rate 1.00e-03: train error 0% in 27 epochs, test error 42%\n",
      "Single-layer MLP, 2100 hidden units, learn. rate 1.00e-05: train error 0% in 497 epochs, test error 34%\n",
      "Single-layer MLP, 2100 hidden units, learn. rate 1.00e-04: train error 0% in 108 epochs, test error 28%\n",
      "Single-layer MLP, 2100 hidden units, learn. rate 1.00e-03: train error 0% in 21 epochs, test error 42%\n",
      "Single-layer MLP, 2800 hidden units, learn. rate 1.00e-05: train error 0% in 309 epochs, test error 43%\n",
      "Single-layer MLP, 2800 hidden units, learn. rate 1.00e-04: train error 0% in 102 epochs, test error 36%\n",
      "Single-layer MLP, 2800 hidden units, learn. rate 1.00e-03: train error 0% in 21 epochs, test error 40%\n",
      "Single-layer MLP, 7000 hidden units, learn. rate 1.00e-05: train error 0% in 346 epochs, test error 29%\n",
      "Single-layer MLP, 7000 hidden units, learn. rate 1.00e-04: train error 0% in 90 epochs, test error 33%\n",
      "Single-layer MLP, 7000 hidden units, learn. rate 1.00e-03: train error 0% in 20 epochs, test error 38%\n",
      "Single-layer MLP, 14000 hidden units, learn. rate 1.00e-05: train error 0% in 413 epochs, test error 27%\n",
      "Single-layer MLP, 14000 hidden units, learn. rate 1.00e-04: train error 0% in 85 epochs, test error 30%\n",
      "Single-layer MLP, 14000 hidden units, learn. rate 1.00e-03: train error 0% in 23 epochs, test error 40%\n"
     ]
    }
   ],
   "source": [
    "# Avoid recursive conversion to torch.autograd.Variable\n",
    "if not isinstance(train_input_100, Variable):\n",
    "    train_input_100 , train_target_100 = Variable(train_input_100), Variable(train_target_100)\n",
    "    test_input_100 , test_target_100 = Variable(test_input_100), Variable(test_target_100)\n",
    "\n",
    "    train_input_1000 , train_target_1000 = Variable(train_input_1000), Variable(train_target_1000)\n",
    "    test_input_1000 , test_target_1000 = Variable(test_input_1000), Variable(test_target_1000)\n",
    "\n",
    "# Train and test shallow network \n",
    "dim = Nchannels*Nsamples_100   # dimension of flattened data vectors\n",
    "eta_vals = [1e-5, 1e-4, 1e-3]\n",
    "Nhidden_ratios = [0.25, 0.50, 0.75, 1, 1.5, 2.0, 5.0, 10]  # Nhidden/dim ratios\n",
    "n_epochs = torch.LongTensor(len(Nhidden_ratios), len(eta_vals)).zero_()  # number of epochs needed to get to zero training error\n",
    "n_errs_train = Tensor(len(Nhidden_ratios), len(eta_vals)).zero_()\n",
    "n_errs_test = Tensor(len(Nhidden_ratios), len(eta_vals)).zero_()\n",
    "for i_r  in range(0, len(Nhidden_ratios)):\n",
    "    Nhidden = int(Nhidden_ratios[i_r]*dim)\n",
    "    for i in range(0, len(eta_vals)):\n",
    "        eta = eta_vals[i]\n",
    "        model = create_shallow_model(dim, Nhidden)\n",
    "        n_epochs[i_r, i] = train_model(model, train_input_100.view(Ntrain, dim), train_target_100, eta=eta)\n",
    "        n_errs_train[i_r, i] = compute_nb_errors(model, train_input_100.view(Ntrain, dim), train_target_100)\n",
    "        n_errs_test[i_r, i] = compute_nb_errors(model, test_input_100.view(Ntest, dim), test_target_100)\n",
    "        print(\"Single-layer MLP, {:d} hidden units, learn. rate {:3.2e}: train error {:g}% in {:d} epochs, test error {:g}%\".format(\n",
    "                Nhidden, eta, n_errs_train[i_r, i]*100/Ntrain, n_epochs[i_r, i], n_errs_test[i_r, i]*100/Ntest))"
   ]
  },
  {
   "cell_type": "code",
   "execution_count": 20,
   "metadata": {},
   "outputs": [
    {
     "data": {
      "image/png": "[encoded data removed]",
      "text/plain": [
       "<Figure size 432x288 with 1 Axes>"
      ]
     },
     "metadata": {},
     "output_type": "display_data"
    }
   ],
   "source": [
    "import numpy as np\n",
    "import matplotlib.pyplot as plt\n",
    "avg_err_rates = np.array([[36.5000, 33.8333, 38.3333], \n",
    "                 [37.8333, 35.6667, 37.0000],\n",
    "                 [39.0000, 35.1667, 36.6667],\n",
    "                 [38.1667, 32.8333, 36.1667],\n",
    "                 [36.5000, 33.3333, 39.1667],\n",
    "                 [38.6667, 31.6667, 37.3333],\n",
    "                 [30.3333, 32.0000, 37.6667],\n",
    "                 [27.2000, 30.6000, 37.6000]])  # average from 6 repetitions of above cell (5 for the 14000-unit MLP)\n",
    "plt.rc('text', usetex=True)\n",
    "plt.figure()\n",
    "plt.title(\"MLP single hidden layer - batch size 50\")\n",
    "for i in range(0, len(eta_vals)):\n",
    "    plt.plot(np.array(Nhidden_ratios)*dim, avg_err_rates[:, i], '-o', label=\"$\\eta={:.1e}$\".format(eta_vals[i]))\n",
    "plt.xlabel('hidden units')\n",
    "plt.ylabel('Avg error rate (\\%)')\n",
    "plt.legend()\n",
    "plt.show()"
   ]
  }
 ],
 "metadata": {
  "kernelspec": {
   "display_name": "Python 3",
   "language": "python",
   "name": "python3"
  },
  "language_info": {
   "codemirror_mode": {
    "name": "ipython",
    "version": 3
   },
   "file_extension": ".py",
   "mimetype": "text/x-python",
   "name": "python",
   "nbconvert_exporter": "python",
   "pygments_lexer": "ipython3",
   "version": "3.6.4"
  }
 },
 "nbformat": 4,
 "nbformat_minor": 2
}
